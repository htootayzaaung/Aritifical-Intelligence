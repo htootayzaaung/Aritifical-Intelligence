{
 "cells": [
  {
   "cell_type": "markdown",
   "id": "26789485",
   "metadata": {},
   "source": [
    "## Vectorization\n",
    "\n",
    "Consider the following vectors and the function:\n",
    "\n",
    "<b>Formula for code without vectorization</b>\n",
    "\n",
    "<img src=\"../Images/without_vectorization.png\">"
   ]
  },
  {
   "cell_type": "code",
   "execution_count": 3,
   "id": "710be642",
   "metadata": {},
   "outputs": [
    {
     "name": "stdout",
     "output_type": "stream",
     "text": [
      "f:  -35.0\n"
     ]
    }
   ],
   "source": [
    "import numpy as np\n",
    "\n",
    "w = np.array([1.0, 2.5, -3.3])\n",
    "b = 4\n",
    "x = np.array([10, 20, 30])\n",
    "\n",
    "#Without vectorization\n",
    "\n",
    "f = w[0] * x[0] + w[1] * x[1] + w[2] * x[2] + b\n",
    "print(\"f: \", f)"
   ]
  },
  {
   "cell_type": "markdown",
   "id": "eccf0ef1",
   "metadata": {},
   "source": [
    "<b>Formula for code with vectorization</b>\n",
    "\n",
    "<img src=\"../Images/with_vectorization.png\">"
   ]
  },
  {
   "cell_type": "code",
   "execution_count": 4,
   "id": "3ffc5faf",
   "metadata": {},
   "outputs": [
    {
     "name": "stdout",
     "output_type": "stream",
     "text": [
      "f:  -35.0\n"
     ]
    }
   ],
   "source": [
    "#Vectorization 1\n",
    "\n",
    "f = 0\n",
    "for i in range(len(w)):\n",
    "    f = f + w[i] * x[i]\n",
    "f = f + b\n",
    "\n",
    "print(\"f: \", f)"
   ]
  },
  {
   "cell_type": "code",
   "execution_count": 5,
   "id": "d8884252",
   "metadata": {},
   "outputs": [
    {
     "name": "stdout",
     "output_type": "stream",
     "text": [
      "f:  -34.99999999999999\n"
     ]
    }
   ],
   "source": [
    "#Vectorization 2\n",
    "\n",
    "f = np.dot(w, x) + b\n",
    "print(\"f: \", f)"
   ]
  }
 ],
 "metadata": {
  "kernelspec": {
   "display_name": "ai",
   "language": "python",
   "name": "ai"
  },
  "language_info": {
   "codemirror_mode": {
    "name": "ipython",
    "version": 3
   },
   "file_extension": ".py",
   "mimetype": "text/x-python",
   "name": "python",
   "nbconvert_exporter": "python",
   "pygments_lexer": "ipython3",
   "version": "3.11.4"
  }
 },
 "nbformat": 4,
 "nbformat_minor": 5
}
